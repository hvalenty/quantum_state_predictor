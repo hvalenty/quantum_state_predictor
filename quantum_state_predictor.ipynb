{
 "cells": [
  {
   "cell_type": "markdown",
   "id": "132d9af9-1fa4-408b-ae48-af50285b8894",
   "metadata": {},
   "source": [
    "# Quantum State Predictor\n",
    "\n",
    "## A project completed in PHYS474 (Quantum Mechanics I) at Duquesne University.\n",
    "\n",
    "This course was taught by Dr. Theodore Corcovilos @corcoted, who presented the class with the Quantum Guessing Game."
   ]
  }
 ],
 "metadata": {
  "kernelspec": {
   "display_name": "Python 3 (ipykernel)",
   "language": "python",
   "name": "python3"
  },
  "language_info": {
   "codemirror_mode": {
    "name": "ipython",
    "version": 3
   },
   "file_extension": ".py",
   "mimetype": "text/x-python",
   "name": "python",
   "nbconvert_exporter": "python",
   "pygments_lexer": "ipython3",
   "version": "3.8.19"
  }
 },
 "nbformat": 4,
 "nbformat_minor": 5
}
